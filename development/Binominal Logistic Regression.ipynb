{
 "cells": [
  {
   "cell_type": "code",
   "execution_count": 1,
   "id": "491f15c0",
   "metadata": {},
   "outputs": [],
   "source": [
    "# imports\n",
    "import pandas as pd\n",
    "import seaborn as sns    \n",
    "import matplotlib.pyplot as plt\n",
    "import sqlalchemy\n",
    "\n",
    "from sklearn.feature_extraction.text import CountVectorizer\n",
    "from sklearn.feature_extraction.text import TfidfVectorizer\n",
    "from sklearn.linear_model import LogisticRegression\n",
    "from sklearn.metrics import confusion_matrix\n",
    "from sklearn.metrics import accuracy_score\n",
    "from sklearn.metrics import f1_score\n",
    "from sklearn.metrics import classification_report\n",
    "from sklearn.model_selection import train_test_split"
   ]
  },
  {
   "cell_type": "code",
   "execution_count": 2,
   "id": "fc7bc7fc",
   "metadata": {},
   "outputs": [],
   "source": [
    "# get stopwords\n",
    "with open('Stopwords.txt', 'r') as f:\n",
    "    stop_words = f.read().splitlines()"
   ]
  },
  {
   "cell_type": "code",
   "execution_count": 3,
   "id": "96d1b6a4",
   "metadata": {},
   "outputs": [],
   "source": [
    "# get sqlite database via sqlalchemy\n",
    "db = sqlalchemy.create_engine('sqlite:///StaterData.db')\n",
    "\n",
    "# get data from table\n",
    "data = pd.read_sql_table(\"mortgage complaints\", db)"
   ]
  },
  {
   "cell_type": "code",
   "execution_count": 4,
   "id": "c38e6f95",
   "metadata": {
    "scrolled": true
   },
   "outputs": [
    {
     "data": {
      "text/html": [
       "<div>\n",
       "<style scoped>\n",
       "    .dataframe tbody tr th:only-of-type {\n",
       "        vertical-align: middle;\n",
       "    }\n",
       "\n",
       "    .dataframe tbody tr th {\n",
       "        vertical-align: top;\n",
       "    }\n",
       "\n",
       "    .dataframe thead th {\n",
       "        text-align: right;\n",
       "    }\n",
       "</style>\n",
       "<table border=\"1\" class=\"dataframe\">\n",
       "  <thead>\n",
       "    <tr style=\"text-align: right;\">\n",
       "      <th></th>\n",
       "      <th>index</th>\n",
       "      <th>Date received</th>\n",
       "      <th>Product</th>\n",
       "      <th>Sub-product</th>\n",
       "      <th>Issue</th>\n",
       "      <th>Sub-issue</th>\n",
       "      <th>Consumer complaint narrative</th>\n",
       "      <th>Company public response</th>\n",
       "      <th>Company</th>\n",
       "      <th>State</th>\n",
       "      <th>ZIP code</th>\n",
       "      <th>Tags</th>\n",
       "      <th>Consumer consent provided?</th>\n",
       "      <th>Submitted via</th>\n",
       "      <th>Date sent to company</th>\n",
       "      <th>Company response to consumer</th>\n",
       "      <th>Timely response?</th>\n",
       "      <th>Consumer disputed?</th>\n",
       "      <th>Complaint ID</th>\n",
       "    </tr>\n",
       "  </thead>\n",
       "  <tbody>\n",
       "    <tr>\n",
       "      <th>0</th>\n",
       "      <td>1</td>\n",
       "      <td>2023-01-10</td>\n",
       "      <td>Mortgage</td>\n",
       "      <td>Conventional home mortgage</td>\n",
       "      <td>Trouble during payment process</td>\n",
       "      <td>None</td>\n",
       "      <td>Pennymac.com My account was set for auto pay, ...</td>\n",
       "      <td>None</td>\n",
       "      <td>PENNYMAC LOAN SERVICES, LLC.</td>\n",
       "      <td>CA</td>\n",
       "      <td>XXXXX</td>\n",
       "      <td>None</td>\n",
       "      <td>True</td>\n",
       "      <td>Web</td>\n",
       "      <td>2023-01-31</td>\n",
       "      <td>Closed with explanation</td>\n",
       "      <td>True</td>\n",
       "      <td>True</td>\n",
       "      <td>6414919</td>\n",
       "    </tr>\n",
       "    <tr>\n",
       "      <th>1</th>\n",
       "      <td>2</td>\n",
       "      <td>2023-01-10</td>\n",
       "      <td>Mortgage</td>\n",
       "      <td>FHA mortgage</td>\n",
       "      <td>Struggling to pay mortgage</td>\n",
       "      <td>None</td>\n",
       "      <td>Our mortgage company ( LakeviewXXXX  ) has set...</td>\n",
       "      <td>Company has responded to the consumer and the ...</td>\n",
       "      <td>LAKEVIEW LOAN SERVICING, LLC</td>\n",
       "      <td>WA</td>\n",
       "      <td>991XX</td>\n",
       "      <td>Older American</td>\n",
       "      <td>True</td>\n",
       "      <td>Web</td>\n",
       "      <td>2023-01-27</td>\n",
       "      <td>Closed with explanation</td>\n",
       "      <td>True</td>\n",
       "      <td>True</td>\n",
       "      <td>6418853</td>\n",
       "    </tr>\n",
       "    <tr>\n",
       "      <th>2</th>\n",
       "      <td>3</td>\n",
       "      <td>2023-02-03</td>\n",
       "      <td>Mortgage</td>\n",
       "      <td>FHA mortgage</td>\n",
       "      <td>Struggling to pay mortgage</td>\n",
       "      <td>None</td>\n",
       "      <td>Received foreclosure notice from foreclosure a...</td>\n",
       "      <td>None</td>\n",
       "      <td>PLANET HOME LENDING, LLC</td>\n",
       "      <td>TN</td>\n",
       "      <td>XXXXX</td>\n",
       "      <td>None</td>\n",
       "      <td>True</td>\n",
       "      <td>Web</td>\n",
       "      <td>2023-02-03</td>\n",
       "      <td>Closed with explanation</td>\n",
       "      <td>True</td>\n",
       "      <td>True</td>\n",
       "      <td>6527861</td>\n",
       "    </tr>\n",
       "    <tr>\n",
       "      <th>3</th>\n",
       "      <td>4</td>\n",
       "      <td>2023-01-06</td>\n",
       "      <td>Mortgage</td>\n",
       "      <td>Reverse mortgage</td>\n",
       "      <td>Trouble during payment process</td>\n",
       "      <td>None</td>\n",
       "      <td>We want to pay off our XXXXXXXX XXXX XXXX XXXX...</td>\n",
       "      <td>None</td>\n",
       "      <td>Peer Advisors, LLC</td>\n",
       "      <td>CA</td>\n",
       "      <td>91942</td>\n",
       "      <td>None</td>\n",
       "      <td>True</td>\n",
       "      <td>Web</td>\n",
       "      <td>2023-01-26</td>\n",
       "      <td>Closed with explanation</td>\n",
       "      <td>True</td>\n",
       "      <td>True</td>\n",
       "      <td>6407628</td>\n",
       "    </tr>\n",
       "    <tr>\n",
       "      <th>4</th>\n",
       "      <td>8</td>\n",
       "      <td>2023-01-24</td>\n",
       "      <td>Mortgage</td>\n",
       "      <td>Conventional home mortgage</td>\n",
       "      <td>Trouble during payment process</td>\n",
       "      <td>None</td>\n",
       "      <td>We purchased our home in XX/XX/XXXX &amp; started ...</td>\n",
       "      <td>Company has responded to the consumer and the ...</td>\n",
       "      <td>WELLS FARGO &amp; COMPANY</td>\n",
       "      <td>FL</td>\n",
       "      <td>32259</td>\n",
       "      <td>Older American</td>\n",
       "      <td>True</td>\n",
       "      <td>Web</td>\n",
       "      <td>2023-01-24</td>\n",
       "      <td>Closed with explanation</td>\n",
       "      <td>True</td>\n",
       "      <td>True</td>\n",
       "      <td>6479592</td>\n",
       "    </tr>\n",
       "  </tbody>\n",
       "</table>\n",
       "</div>"
      ],
      "text/plain": [
       "   index Date received   Product                 Sub-product  \\\n",
       "0      1    2023-01-10  Mortgage  Conventional home mortgage   \n",
       "1      2    2023-01-10  Mortgage                FHA mortgage   \n",
       "2      3    2023-02-03  Mortgage                FHA mortgage   \n",
       "3      4    2023-01-06  Mortgage            Reverse mortgage   \n",
       "4      8    2023-01-24  Mortgage  Conventional home mortgage   \n",
       "\n",
       "                            Issue Sub-issue  \\\n",
       "0  Trouble during payment process      None   \n",
       "1      Struggling to pay mortgage      None   \n",
       "2      Struggling to pay mortgage      None   \n",
       "3  Trouble during payment process      None   \n",
       "4  Trouble during payment process      None   \n",
       "\n",
       "                        Consumer complaint narrative  \\\n",
       "0  Pennymac.com My account was set for auto pay, ...   \n",
       "1  Our mortgage company ( LakeviewXXXX  ) has set...   \n",
       "2  Received foreclosure notice from foreclosure a...   \n",
       "3  We want to pay off our XXXXXXXX XXXX XXXX XXXX...   \n",
       "4  We purchased our home in XX/XX/XXXX & started ...   \n",
       "\n",
       "                             Company public response  \\\n",
       "0                                               None   \n",
       "1  Company has responded to the consumer and the ...   \n",
       "2                                               None   \n",
       "3                                               None   \n",
       "4  Company has responded to the consumer and the ...   \n",
       "\n",
       "                        Company State ZIP code            Tags  \\\n",
       "0  PENNYMAC LOAN SERVICES, LLC.    CA    XXXXX            None   \n",
       "1  LAKEVIEW LOAN SERVICING, LLC    WA    991XX  Older American   \n",
       "2      PLANET HOME LENDING, LLC    TN    XXXXX            None   \n",
       "3            Peer Advisors, LLC    CA    91942            None   \n",
       "4         WELLS FARGO & COMPANY    FL    32259  Older American   \n",
       "\n",
       "   Consumer consent provided? Submitted via Date sent to company  \\\n",
       "0                        True           Web           2023-01-31   \n",
       "1                        True           Web           2023-01-27   \n",
       "2                        True           Web           2023-02-03   \n",
       "3                        True           Web           2023-01-26   \n",
       "4                        True           Web           2023-01-24   \n",
       "\n",
       "  Company response to consumer  Timely response?  Consumer disputed?  \\\n",
       "0      Closed with explanation              True                True   \n",
       "1      Closed with explanation              True                True   \n",
       "2      Closed with explanation              True                True   \n",
       "3      Closed with explanation              True                True   \n",
       "4      Closed with explanation              True                True   \n",
       "\n",
       "   Complaint ID  \n",
       "0       6414919  \n",
       "1       6418853  \n",
       "2       6527861  \n",
       "3       6407628  \n",
       "4       6479592  "
      ]
     },
     "execution_count": 4,
     "metadata": {},
     "output_type": "execute_result"
    }
   ],
   "source": [
    "# add in DataFrame\n",
    "df = pd.DataFrame(data)\n",
    "df.head()"
   ]
  },
  {
   "cell_type": "code",
   "execution_count": 5,
   "id": "03db8957",
   "metadata": {},
   "outputs": [
    {
     "name": "stdout",
     "output_type": "stream",
     "text": [
      "<class 'pandas.core.frame.DataFrame'>\n",
      "RangeIndex: 104154 entries, 0 to 104153\n",
      "Data columns (total 19 columns):\n",
      " #   Column                        Non-Null Count   Dtype         \n",
      "---  ------                        --------------   -----         \n",
      " 0   index                         104154 non-null  int64         \n",
      " 1   Date received                 104154 non-null  datetime64[ns]\n",
      " 2   Product                       104154 non-null  object        \n",
      " 3   Sub-product                   104154 non-null  object        \n",
      " 4   Issue                         104154 non-null  object        \n",
      " 5   Sub-issue                     104154 non-null  object        \n",
      " 6   Consumer complaint narrative  104154 non-null  object        \n",
      " 7   Company public response       104154 non-null  object        \n",
      " 8   Company                       104154 non-null  object        \n",
      " 9   State                         104154 non-null  object        \n",
      " 10  ZIP code                      104154 non-null  object        \n",
      " 11  Tags                          104154 non-null  object        \n",
      " 12  Consumer consent provided?    104154 non-null  bool          \n",
      " 13  Submitted via                 104154 non-null  object        \n",
      " 14  Date sent to company          104154 non-null  datetime64[ns]\n",
      " 15  Company response to consumer  104154 non-null  object        \n",
      " 16  Timely response?              104154 non-null  bool          \n",
      " 17  Consumer disputed?            104154 non-null  bool          \n",
      " 18  Complaint ID                  104154 non-null  int64         \n",
      "dtypes: bool(3), datetime64[ns](2), int64(2), object(12)\n",
      "memory usage: 13.0+ MB\n"
     ]
    }
   ],
   "source": [
    "df.info()"
   ]
  },
  {
   "cell_type": "code",
   "execution_count": 6,
   "id": "07bb1c79",
   "metadata": {},
   "outputs": [
    {
     "data": {
      "text/html": [
       "<div>\n",
       "<style scoped>\n",
       "    .dataframe tbody tr th:only-of-type {\n",
       "        vertical-align: middle;\n",
       "    }\n",
       "\n",
       "    .dataframe tbody tr th {\n",
       "        vertical-align: top;\n",
       "    }\n",
       "\n",
       "    .dataframe thead th {\n",
       "        text-align: right;\n",
       "    }\n",
       "</style>\n",
       "<table border=\"1\" class=\"dataframe\">\n",
       "  <thead>\n",
       "    <tr style=\"text-align: right;\">\n",
       "      <th></th>\n",
       "      <th>count</th>\n",
       "      <th>mean</th>\n",
       "      <th>std</th>\n",
       "      <th>min</th>\n",
       "      <th>25%</th>\n",
       "      <th>50%</th>\n",
       "      <th>75%</th>\n",
       "      <th>max</th>\n",
       "    </tr>\n",
       "  </thead>\n",
       "  <tbody>\n",
       "    <tr>\n",
       "      <th>index</th>\n",
       "      <td>104154.0</td>\n",
       "      <td>1.550335e+05</td>\n",
       "      <td>1.054079e+05</td>\n",
       "      <td>1.0</td>\n",
       "      <td>58057.75</td>\n",
       "      <td>155843.0</td>\n",
       "      <td>231060.75</td>\n",
       "      <td>376168.0</td>\n",
       "    </tr>\n",
       "    <tr>\n",
       "      <th>Complaint ID</th>\n",
       "      <td>104154.0</td>\n",
       "      <td>3.372437e+06</td>\n",
       "      <td>1.429823e+06</td>\n",
       "      <td>1290155.0</td>\n",
       "      <td>2205266.25</td>\n",
       "      <td>3131954.0</td>\n",
       "      <td>4263160.25</td>\n",
       "      <td>6884320.0</td>\n",
       "    </tr>\n",
       "  </tbody>\n",
       "</table>\n",
       "</div>"
      ],
      "text/plain": [
       "                 count          mean           std        min         25%  \\\n",
       "index         104154.0  1.550335e+05  1.054079e+05        1.0    58057.75   \n",
       "Complaint ID  104154.0  3.372437e+06  1.429823e+06  1290155.0  2205266.25   \n",
       "\n",
       "                    50%         75%        max  \n",
       "index          155843.0   231060.75   376168.0  \n",
       "Complaint ID  3131954.0  4263160.25  6884320.0  "
      ]
     },
     "execution_count": 6,
     "metadata": {},
     "output_type": "execute_result"
    }
   ],
   "source": [
    "df.describe().transpose()"
   ]
  },
  {
   "cell_type": "code",
   "execution_count": 7,
   "id": "c4a8908e",
   "metadata": {},
   "outputs": [
    {
     "data": {
      "text/plain": [
       "<AxesSubplot:>"
      ]
     },
     "execution_count": 7,
     "metadata": {},
     "output_type": "execute_result"
    },
    {
     "data": {
      "image/png": "[encoded data removed]",
      "text/plain": [
       "<Figure size 2000x1000 with 2 Axes>"
      ]
     },
     "metadata": {},
     "output_type": "display_data"
    }
   ],
   "source": [
    "plt.figure(figsize= (20, 10))\n",
    "sns.heatmap(df.corr(),annot= True)"
   ]
  },
  {
   "cell_type": "code",
   "execution_count": 8,
   "id": "357de493",
   "metadata": {},
   "outputs": [
    {
     "data": {
      "text/plain": [
       "True     102343\n",
       "False      1811\n",
       "Name: Consumer disputed?, dtype: int64"
      ]
     },
     "execution_count": 8,
     "metadata": {},
     "output_type": "execute_result"
    }
   ],
   "source": [
    "df['Consumer disputed?'].value_counts()"
   ]
  },
  {
   "cell_type": "code",
   "execution_count": 9,
   "id": "6ec29e19",
   "metadata": {},
   "outputs": [],
   "source": [
    "extracted_df = df[['Consumer complaint narrative', 'Consumer disputed?']].copy()"
   ]
  },
  {
   "cell_type": "code",
   "execution_count": 10,
   "id": "2eb03761",
   "metadata": {},
   "outputs": [],
   "source": [
    "x = extracted_df['Consumer complaint narrative']\n",
    "y = extracted_df['Consumer disputed?']"
   ]
  },
  {
   "cell_type": "code",
   "execution_count": 11,
   "id": "ab012904",
   "metadata": {},
   "outputs": [],
   "source": [
    "X_train, X_test, y_train, y_test = train_test_split(x, y, random_state=2, test_size=0.3)"
   ]
  },
  {
   "cell_type": "code",
   "execution_count": 12,
   "id": "8185d73b",
   "metadata": {},
   "outputs": [],
   "source": [
    "# text to numbers\n",
    "vect = CountVectorizer(stop_words=stop_words)\n",
    "X_train = vect.fit_transform(X_train)\n",
    "X_test = vect.transform(X_test)"
   ]
  },
  {
   "cell_type": "code",
   "execution_count": 13,
   "id": "de92c473",
   "metadata": {},
   "outputs": [],
   "source": [
    "logregression = LogisticRegression(n_jobs=4)"
   ]
  },
  {
   "cell_type": "code",
   "execution_count": 24,
   "id": "e566a937",
   "metadata": {},
   "outputs": [
    {
     "data": {
      "text/plain": [
       "0.9775338432489519"
      ]
     },
     "execution_count": 24,
     "metadata": {},
     "output_type": "execute_result"
    }
   ],
   "source": [
    "logregression.fit(X_train, y_train)\n",
    "logregression.score(X_test, y_test)"
   ]
  },
  {
   "cell_type": "code",
   "execution_count": 23,
   "id": "3ec2881b",
   "metadata": {},
   "outputs": [
    {
     "data": {
      "text/html": [
       "<div>\n",
       "<style scoped>\n",
       "    .dataframe tbody tr th:only-of-type {\n",
       "        vertical-align: middle;\n",
       "    }\n",
       "\n",
       "    .dataframe tbody tr th {\n",
       "        vertical-align: top;\n",
       "    }\n",
       "\n",
       "    .dataframe thead th {\n",
       "        text-align: right;\n",
       "    }\n",
       "</style>\n",
       "<table border=\"1\" class=\"dataframe\">\n",
       "  <thead>\n",
       "    <tr style=\"text-align: right;\">\n",
       "      <th></th>\n",
       "      <th>No</th>\n",
       "      <th>Yes</th>\n",
       "    </tr>\n",
       "  </thead>\n",
       "  <tbody>\n",
       "    <tr>\n",
       "      <th>No</th>\n",
       "      <td>0.054795</td>\n",
       "      <td>0.004892</td>\n",
       "    </tr>\n",
       "    <tr>\n",
       "      <th>Yes</th>\n",
       "      <td>0.945205</td>\n",
       "      <td>0.995108</td>\n",
       "    </tr>\n",
       "  </tbody>\n",
       "</table>\n",
       "</div>"
      ],
      "text/plain": [
       "           No       Yes\n",
       "No   0.054795  0.004892\n",
       "Yes  0.945205  0.995108"
      ]
     },
     "execution_count": 23,
     "metadata": {},
     "output_type": "execute_result"
    }
   ],
   "source": [
    "y_pred = logregression.predict(X_test)\n",
    "\n",
    "cm = pd.DataFrame(confusion_matrix(y_test, y_pred), columns=['No', 'Yes'], index=['No', 'Yes'])\n",
    "cm = cm.transpose()/cm.sum(axis=1)\n",
    "cm"
   ]
  },
  {
   "cell_type": "code",
   "execution_count": 16,
   "id": "1dc9e3f6",
   "metadata": {},
   "outputs": [
    {
     "data": {
      "image/png": "[encoded data removed]",
      "text/plain": [
       "<Figure size 640x480 with 2 Axes>"
      ]
     },
     "metadata": {},
     "output_type": "display_data"
    }
   ],
   "source": [
    "sns.heatmap(cm.transpose(), annot=True)\n",
    "plt.show()"
   ]
  },
  {
   "cell_type": "markdown",
   "id": "b124117c",
   "metadata": {},
   "source": [
    "Bij No is 5.5% correct voorspeld en 95% verkeerd voorspeld.\n",
    "Bij Yes is het 100% correct voorspeld en 0.05% verkeerd voorspeld."
   ]
  },
  {
   "cell_type": "code",
   "execution_count": 17,
   "id": "ec8bd357",
   "metadata": {},
   "outputs": [
    {
     "name": "stdout",
     "output_type": "stream",
     "text": [
      "              precision    recall  f1-score   support\n",
      "\n",
      "          No       0.18      0.05      0.08       584\n",
      "         Yes       0.98      1.00      0.99     30663\n",
      "\n",
      "    accuracy                           0.98     31247\n",
      "   macro avg       0.58      0.52      0.54     31247\n",
      "weighted avg       0.97      0.98      0.97     31247\n",
      "\n"
     ]
    }
   ],
   "source": [
    "print(classification_report(y_test, y_pred, target_names=['No', 'Yes']))"
   ]
  },
  {
   "cell_type": "code",
   "execution_count": 18,
   "id": "974a4bfb",
   "metadata": {},
   "outputs": [
    {
     "data": {
      "text/plain": [
       "0.9886275272161742"
      ]
     },
     "execution_count": 18,
     "metadata": {},
     "output_type": "execute_result"
    }
   ],
   "source": [
    "f1_score(y_test, y_pred)"
   ]
  },
  {
   "cell_type": "code",
   "execution_count": 19,
   "id": "81db06ac",
   "metadata": {},
   "outputs": [
    {
     "data": {
      "text/plain": [
       "0.9775338432489519"
      ]
     },
     "execution_count": 19,
     "metadata": {},
     "output_type": "execute_result"
    }
   ],
   "source": [
    "accuracy_score(y_test, y_pred)"
   ]
  }
 ],
 "metadata": {
  "kernelspec": {
   "display_name": "Python 3 (ipykernel)",
   "language": "python",
   "name": "python3"
  },
  "language_info": {
   "codemirror_mode": {
    "name": "ipython",
    "version": 3
   },
   "file_extension": ".py",
   "mimetype": "text/x-python",
   "name": "python",
   "nbconvert_exporter": "python",
   "pygments_lexer": "ipython3",
   "version": "3.9.13"
  }
 },
 "nbformat": 4,
 "nbformat_minor": 5
}
