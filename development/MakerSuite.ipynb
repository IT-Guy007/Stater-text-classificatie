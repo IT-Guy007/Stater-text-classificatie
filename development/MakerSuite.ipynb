{
 "cells": [
  {
   "attachments": {},
   "cell_type": "markdown",
   "metadata": {},
   "source": [
    "MakerSuite PaLM API from Google, in this notebook stands the research on how we can use the datamodel to create a custom chatbod."
   ]
  {
   "cell_type": "code",
   "execution_count": null,
   "metadata": {},
   "outputs": [],
   "source": [
    "# Imports\n",
    "import google.generativeai as palm\n",
    "import pandas as pd"
   ]
  },
  {
   "cell_type": "code",
   "execution_count": null,
   "metadata": {
    "ExecuteTime": {
     "end_time": "2023-05-24T11:06:14.973722Z",
     "start_time": "2023-05-24T11:06:14.970609Z"
    }
   },
   "outputs": [],
   "source": [
    "# Configuration\n",
    "palm.configure(api_key=\"<Key>\")\n",
    "defaults = {\n",
    "  'model': 'models/text-bison-001',\n",
    "  'temperature': 0.7,\n",
    "  'candidate_count': 1,\n",
    "  'top_k': 40,\n",
    "  'top_p': 0.95,\n",
    "  'max_output_tokens': 1024,\n",
    "  'stop_sequences': [],\n",
    "}\n",
    "\n",
    "prompt = \"\""
   ]
  },
  {
   "attachments": {},
   "cell_type": "markdown",
   "metadata": {},
   "source": [
    "Create the questions file where the data is formatted the way Palm reads it, it is exported to a file for faster processing."
   ]
  },
  {
   "cell_type": "code",
   "execution_count": null,
   "metadata": {
    "ExecuteTime": {
     "end_time": "2023-05-24T11:06:20.283631Z",
     "start_time": "2023-05-24T11:06:14.978203Z"
    },
    "collapsed": false
   },
   "outputs": [],
   "source": [
    "#Create the prompt txt\n",
    "data = pd.read_sql_query(\"SELECT * FROM 'mortgage complaints'\", \"sqlite:///StaterData.db\", parse_dates={'Date received': '%Y-%m-%d %H:%M:%S', 'Date sent to company': '%Y-%m-%d %H:%M:%S'})\n",
    "\n",
    "# Cleaning\n",
    "data[['Timely response?','Consumer disputed?']] = data[['Consumer disputed?','Timely response?']].replace({'Yes': True, 'No':False}).astype(bool)\n",
    "data['Consumer consent provided?'] = data['Consumer consent provided?'].replace({'Consent provided': True, '':False}).astype(bool)\n",
    "data[data['Consumer complaint narrative'].notna()]\n",
    "data['Consumer complaint narrative'] = data['Consumer complaint narrative'].str.lower()\n",
    "\n",
    "data = data[['Consumer complaint narrative','Issue']]\n",
    "data.tail()\n",
    "\n",
    "format_string = \"input: {consumer_complaint_narrative} \\noutput: {issue}\"\n",
    "updated_prompts = []\n",
    "\n",
    "for index, row in data.iterrows():\n",
    "  consumer_complaint = row['Consumer complaint narrative']\n",
    "  issue = row['Issue']\n",
    "\n",
    "  updated_prompt = format_string.format(consumer_complaint_narrative=consumer_complaint, issue=issue)\n",
    "  updated_prompts.append(updated_prompt)\n",
    "\n",
    "prompt = '\\n'.join(updated_prompts)\n",
    "\n",
    "with open(\"prompt.txt\", 'w') as file:\n",
    "  file.write(prompt)"
   ]
  },
  {
   "attachments": {},
   "cell_type": "markdown",
   "metadata": {},
   "source": [
    "Create the question and request a response"
   ]
  },
  {
   "cell_type": "code",
   "execution_count": null,
   "metadata": {
    "ExecuteTime": {
     "end_time": "2023-05-24T11:20:39.511544Z",
     "start_time": "2023-05-24T11:18:11.836317Z"
    }
   },
   "outputs": [],
   "source": [
    "# Create question and get response\n",
    "with open(\"prompt.txt\", 'r') as file:\n",
    "  prompt = file.read()\n",
    "\n",
    "question = \"I want to close my mortgage account. What should I do?\"\n",
    "\n",
    "prompt = prompt +  \"\\ninput: \" + question\n",
    "\n",
    "response = palm.generate_text(\n",
    "  **defaults,\n",
    "  prompt=prompt\n",
    ")\n",
    "print(response.result)"
   ]
  },
  {
   "attachments": {},
   "cell_type": "markdown",
   "metadata": {},
   "source": [
    "Unfortunately this way doesn't work, the lack of documentation is making this impossible to work on."
   ]
  }
 ],
 "metadata": {
  "kernelspec": {
   "display_name": "base",
   "language": "python",
   "name": "python3"
  },
  "language_info": {
   "codemirror_mode": {
    "name": "ipython",
    "version": 3
   },
   "file_extension": ".py",
   "mimetype": "text/x-python",
   "name": "python",
   "nbconvert_exporter": "python",
   "pygments_lexer": "ipython3",
   "version": "3.11.3"
  },
  "orig_nbformat": 4
 },
 "nbformat": 4,
 "nbformat_minor": 2
}
