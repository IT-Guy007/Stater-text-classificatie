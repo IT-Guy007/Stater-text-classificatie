{
 "cells": [
  {
   "cell_type": "markdown",
   "metadata": {},
   "source": [
    "## 1. Load the dataset\n",
    "\n"
   ]
  },
  {
   "attachments": {},
   "cell_type": "markdown",
   "metadata": {},
   "source": [
    "To run this notebook, you will need to install: pandas, openai, transformers, plotly, matplotlib, scikit-learn, torch (transformer dep), torchvision, and scipy."
   ]
  },
  {
   "cell_type": "code",
   "execution_count": 13,
   "outputs": [
    {
     "name": "stderr",
     "output_type": "stream",
     "text": [
      "C:\\Users\\Lars\\AppData\\Local\\Temp\\ipykernel_13256\\2459883123.py:38: SettingWithCopyWarning: \n",
      "A value is trying to be set on a copy of a slice from a DataFrame.\n",
      "Try using .loc[row_indexer,col_indexer] = value instead\n",
      "\n",
      "See the caveats in the documentation: https://pandas.pydata.org/pandas-docs/stable/user_guide/indexing.html#returning-a-view-versus-a-copy\n",
      "  data[\"Embeddings\"] = embeddings\n"
     ]
    }
   ],
   "source": [
    "import pandas as pd\n",
    "import openai\n",
    "\n",
    "# Setup API-Key for OpenAi\n",
    "openai.api_key = \"sk-\"\n",
    "\n",
    "# Define the embedding model which is used\n",
    "embedding_model = \"text-embedding-ada-002\"\n",
    "\n",
    "# Retrieve the data from the database\n",
    "input_datapath = pd.read_sql_query(\"SELECT * FROM 'mortgage complaints'\", \"sqlite:///StaterData.db\")\n",
    "\n",
    "# Limit test size due to performance issues\n",
    "data = input_datapath.loc[:30]\n",
    "\n",
    "# Extract the relevant columns and put into a list\n",
    "texts = data[\"Consumer complaint narrative\"].tolist()\n",
    "\n",
    "# Initialize a list to store the embeddings\n",
    "embeddings = []\n",
    "\n",
    "# Generate embeddings for the texts\n",
    "for text in texts:\n",
    "    response = openai.Completion.create(\n",
    "        engine=embedding_model,\n",
    "        prompt=text,\n",
    "        max_tokens=1,\n",
    "        temperature=0,\n",
    "        top_p=0,\n",
    "        n=1,\n",
    "        stop=None,\n",
    "        logprobs=0,\n",
    "    )\n",
    "    embedding = response.choices[0].logprobs.token_logprobs[0]\n",
    "    embeddings.append(embedding)\n",
    "\n",
    "# Assign the embeddings to the DataFrame\n",
    "data[\"Embeddings\"] = embeddings\n",
    "\n",
    "# data = data[\"Embeddings\"]\n",
    "\n",
    "# Save the DataFrame with embeddings to a CSV file\n",
    "data.to_csv(\"MortgageEmbeddings.csv\", index=False)\n",
    "\n"
   ],
   "metadata": {
    "collapsed": false,
    "ExecuteTime": {
     "end_time": "2023-05-24T10:39:35.240305400Z",
     "start_time": "2023-05-24T10:39:24.718240100Z"
    }
   }
  },
  {
   "cell_type": "code",
   "execution_count": 15,
   "outputs": [
    {
     "name": "stdout",
     "output_type": "stream",
     "text": [
      "[[-2.5349712]\n",
      " [-1.7125219]\n",
      " [-1.941894 ]\n",
      " [-1.1566694]\n",
      " [-1.9006227]\n",
      " [-2.4283676]\n",
      " [-1.9624331]\n",
      " [-2.1549342]\n",
      " [-2.101875 ]\n",
      " [-1.6315789]\n",
      " [-1.7694852]\n",
      " [-1.6135703]\n",
      " [-1.7266814]\n",
      " [-2.2935843]\n",
      " [-1.9359815]\n",
      " [-2.6362653]\n",
      " [-1.5304936]\n",
      " [-1.734073 ]\n",
      " [-2.1274507]\n",
      " [-2.7574806]\n",
      " [-1.8576968]\n",
      " [-1.6701773]\n",
      " [-2.5826762]\n",
      " [-2.0674033]\n",
      " [-1.4728855]\n",
      " [-2.0358458]\n",
      " [-2.0172763]\n",
      " [-2.4396744]\n",
      " [-1.3477863]\n",
      " [-2.6027756]\n",
      " [-2.2203102]]\n",
      "Accuracy: 0.14285714285714285\n"
     ]
    }
   ],
   "source": [
    "import pandas as pd\n",
    "from sklearn.ensemble import RandomForestClassifier\n",
    "import numpy as np\n",
    "from sklearn.model_selection import train_test_split\n",
    "\n",
    "# Load the data with embeddings from the CSV file\n",
    "data = pd.read_csv(\"MortgageEmbeddings.csv\")\n",
    "\n",
    "# Prepare the feature matrix X and target vector y\n",
    "X = data[\"Embeddings\"].tolist()\n",
    "y = data[\"Issue\"]  # Replace \"TargetVariable\" with the actual name of your target variable\n",
    "\n",
    "X = np.array(X).reshape(-1, 1)\n",
    "\n",
    "print(X)\n",
    "\n",
    "# Split the data into training and testing sets\n",
    "X_train, X_test, y_train, y_test = train_test_split(X, y, test_size=0.2, random_state=42)\n",
    "\n",
    "# Create an instance of the random forest classifier\n",
    "rf_classifier = RandomForestClassifier()\n",
    "\n",
    "# Train the random forest classifier\n",
    "rf_classifier.fit(X_train, y_train)\n",
    "\n",
    "# Make predictions on the test data\n",
    "y_pred = rf_classifier.predict(X_test)\n",
    "\n",
    "# Evaluate the performance of the model\n",
    "accuracy = (y_pred == y_test).mean()\n",
    "print(\"Accuracy:\", accuracy)\n"
   ],
   "metadata": {
    "collapsed": false,
    "ExecuteTime": {
     "end_time": "2023-05-24T10:40:10.765459500Z",
     "start_time": "2023-05-24T10:40:10.688441600Z"
    }
   }
  },
  {
   "cell_type": "code",
   "execution_count": null,
   "outputs": [],
   "source": [],
   "metadata": {
    "collapsed": false
   }
  }
 ],
 "metadata": {
  "kernelspec": {
   "display_name": "openai",
   "language": "python",
   "name": "python3"
  },
  "language_info": {
   "codemirror_mode": {
    "name": "ipython",
    "version": 3
   },
   "file_extension": ".py",
   "mimetype": "text/x-python",
   "name": "python",
   "nbconvert_exporter": "python",
   "pygments_lexer": "ipython3",
   "version": "3.9.9 (main, Dec  7 2021, 18:04:56) \n[Clang 13.0.0 (clang-1300.0.29.3)]"
  },
  "orig_nbformat": 4,
  "vscode": {
   "interpreter": {
    "hash": "365536dcbde60510dc9073d6b991cd35db2d9bac356a11f5b64279a5e6708b97"
   }
  }
 },
 "nbformat": 4,
 "nbformat_minor": 2
}
