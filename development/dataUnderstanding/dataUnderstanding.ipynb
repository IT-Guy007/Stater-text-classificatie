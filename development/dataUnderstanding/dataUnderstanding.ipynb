{
 "cells": [
  {
   "attachments": {},
   "cell_type": "markdown",
   "metadata": {
    "collapsed": false
   },
   "source": [
    "Data Understanding and cleaning method, it is run in the script DataRetriever"
   ]
  },
  {
   "attachments": {},
   "cell_type": "markdown",
   "metadata": {
    "collapsed": false
   },
   "source": [
    "In the code below, all needed imports for the following code are made up here."
   ]
  },
  {
   "cell_type": "code",
   "execution_count": 1,
   "metadata": {
    "ExecuteTime": {
     "end_time": "2023-04-26T12:46:30.682604Z",
     "start_time": "2023-04-26T12:46:29.174670Z"
    },
    "collapsed": true
   },
   "outputs": [],
   "source": [
    "# Imports\n",
    "import pandas as pd\n",
    "import sqlalchemy"
   ]
  },
  {
   "attachments": {},
   "cell_type": "markdown",
   "metadata": {
    "collapsed": false
   },
   "source": [
    "Defining the constants"
   ]
  },
  {
   "cell_type": "code",
   "execution_count": 2,
   "metadata": {
    "ExecuteTime": {
     "end_time": "2023-04-26T12:46:36.539741Z",
     "start_time": "2023-04-26T12:46:36.529344Z"
    },
    "collapsed": false
   },
   "outputs": [],
   "source": [
    "# Consts\n",
    "parse_dates = ['Date received', 'Date sent to company']\n",
    "dtypes = {'Date received': str,\n",
    "          'Product': \"category\",\n",
    "          'Sub-product': \"category\",\n",
    "          'Issue': \"category\",\n",
    "          'Sub-issue':\"category\",\n",
    "          'Consumer complaint narrative':str,\n",
    "          'Company public response':str,\n",
    "          'Company':\"category\",\n",
    "          'State':\"category\",\n",
    "          'ZIP code':str,\n",
    "          'Tags':\"category\",\n",
    "          'Consumer consent provided?':str,\n",
    "          'Submitted via':\"category\",\n",
    "          'Date sent to company':str,\n",
    "          'Company response to consumer':str,\n",
    "          'Timely response?':str,\n",
    "          'Consumer disputed?':str,\n",
    "          'Complaint ID':int}"
   ]
  },
  {
   "attachments": {},
   "cell_type": "markdown",
   "metadata": {
    "collapsed": false
   },
   "source": [
    "Data cleaning"
   ]
  },
  {
   "cell_type": "code",
   "execution_count": null,
   "metadata": {
    "collapsed": false
   },
   "outputs": [],
   "source": [
    "# Read the data\n",
    "DS1_data = pd.read_csv(\"complaints.csv\", low_memory = False, dtype = dtypes, parse_dates = parse_dates)\n",
    "\n",
    "DS1_data[['Timely response?','Consumer disputed?']] = DS1_data[['Consumer disputed?','Timely response?']].replace({'Yes': True, 'No':False}).astype(bool)\n",
    "\n",
    "DS1_data['Consumer consent provided?'] = DS1_data['Consumer consent provided?'].replace({'Consent provided': True, '':False}).astype(bool)\n",
    "\n",
    "DS1_data = DS1_data[pd.notnull(DS1_data['Consumer complaint narrative'])]\n",
    "\n",
    "#Drops the column without data\n",
    "DS1_data.drop(columns=['Sub-issue'])"
   ]
  },
  {
   "attachments": {},
   "cell_type": "markdown",
   "metadata": {
    "collapsed": false
   },
   "source": [
    "Data export"
   ]
  },
  {
   "cell_type": "code",
   "execution_count": null,
   "metadata": {
    "collapsed": false
   },
   "outputs": [],
   "source": [
    "# Export the data\n",
    "db = sqlalchemy.create_engine('sqlite:///StaterData.db')\n",
    "DS1_data.to_sql(\"mortgage complaints\",db,if_exists=\"replace\")"
   ]
  }
 ],
 "metadata": {
  "kernelspec": {
   "display_name": "Python 3",
   "language": "python",
   "name": "python3"
  },
  "language_info": {
   "codemirror_mode": {
    "name": "ipython",
    "version": 3
   },
   "file_extension": ".py",
   "mimetype": "text/x-python",
   "name": "python",
   "nbconvert_exporter": "python",
   "pygments_lexer": "ipython3",
   "version": "3.9.7"
  }
 },
 "nbformat": 4,
 "nbformat_minor": 0
}