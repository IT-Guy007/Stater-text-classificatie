{
 "cells": [
  {
   "attachments": {},
   "cell_type": "markdown",
   "metadata": {},
   "source": [
    "## 1. Load the dataset\n",
    "\n"
   ]
  },
  {
   "attachments": {},
   "cell_type": "markdown",
   "metadata": {},
   "source": [
    "To run this notebook, you will need to install: pandas, openai, transformers, plotly, matplotlib, scikit-learn, torch (transformer dep), torchvision, and scipy."
   ]
  },
  {
   "cell_type": "code",
   "execution_count": 11,
   "metadata": {},
   "outputs": [],
   "source": [
    "# install openai (do this only once at the start. Source: https://community.openai.com/t/no-module-named-openai/8303/3)\n",
    "# !python --version\n",
    "# !pip --version\n",
    "# !pip install openai"
   ]
  },
  {
   "attachments": {},
   "cell_type": "markdown",
   "metadata": {
    "collapsed": false
   },
   "source": [
    "Import various library's"
   ]
  },
  {
   "cell_type": "code",
   "execution_count": 12,
   "metadata": {},
   "outputs": [],
   "source": [
    "import pandas as pd\n",
    "import time\n",
    "import openai\n",
    "import json\n",
    "import numpy as np\n",
    "from sklearn.metrics import accuracy_score\n",
    "from sklearn.ensemble import RandomForestClassifier\n",
    "from sklearn.model_selection import train_test_split"
   ]
  },
  {
   "attachments": {},
   "cell_type": "markdown",
   "metadata": {
    "collapsed": false
   },
   "source": [
    "Create embeddings, make sure you change the API key. Currently limits to 200 rows because of token prices."
   ]
  },
  {
   "cell_type": "code",
   "execution_count": 19,
   "metadata": {
    "ExecuteTime": {
     "end_time": "2023-06-05T10:06:12.029064600Z",
     "start_time": "2023-06-05T10:06:09.230434800Z"
    }
   },
   "outputs": [],
   "source": [
    "# Setup openAI API key\n",
    "openai.api_key = '<api_key>'\n",
    "\n",
    "# OpenAI model for embedding complaints: text-embedding-ada-002, link: https://platform.openai.com/docs/models/embeddings\n",
    "embedding_model = 'text-embedding-ada-002'\n",
    "\n",
    "# Retrieve the data from the database\n",
    "input_datapath = pd.read_csv('StaterData.csv')\n",
    "\n",
    "# Limit test size due to performance issues\n",
    "data = input_datapath.loc[:200]\n",
    "\n",
    "# Create and return embedding\n",
    "def get_embedding(text, model=\"text-embedding-ada-002\"):\n",
    "    # sleep 1 second to prevent reaching rate limit. Limit: 60 requests per min.\n",
    "    time.sleep(1)\n",
    "    text = text.replace(\"\\n\", \" \")\n",
    "    return openai.Embedding.create(input = [text], model=model)['data'][0]['embedding']\n",
    "\n",
    "data['Embedding'] = data['Clean consumer complaint'].apply(lambda x: get_embedding(x))\n",
    "data.to_csv('StaterDataEmbeddings.csv', index=False)"
   ]
  },
  {
   "attachments": {},
   "cell_type": "markdown",
   "metadata": {
    "collapsed": false
   },
   "source": [
    "Print head of data to check if the data is correct"
   ]
  },
  {
   "cell_type": "code",
   "execution_count": 20,
   "metadata": {},
   "outputs": [
    {
     "data": {
      "text/html": [
       "<div>\n",
       "<style scoped>\n",
       "    .dataframe tbody tr th:only-of-type {\n",
       "        vertical-align: middle;\n",
       "    }\n",
       "\n",
       "    .dataframe tbody tr th {\n",
       "        vertical-align: top;\n",
       "    }\n",
       "\n",
       "    .dataframe thead th {\n",
       "        text-align: right;\n",
       "    }\n",
       "</style>\n",
       "<table border=\"1\" class=\"dataframe\">\n",
       "  <thead>\n",
       "    <tr style=\"text-align: right;\">\n",
       "      <th></th>\n",
       "      <th>Complaint ID</th>\n",
       "      <th>Issue</th>\n",
       "      <th>Consumer complaint narrative</th>\n",
       "      <th>Clean consumer complaint</th>\n",
       "      <th>Embedding</th>\n",
       "    </tr>\n",
       "  </thead>\n",
       "  <tbody>\n",
       "    <tr>\n",
       "      <th>0</th>\n",
       "      <td>6697855</td>\n",
       "      <td>Trouble during payment process</td>\n",
       "      <td>I closed on my house XX/XX/XXXX, XXXX  payment...</td>\n",
       "      <td>close house payment due xxxxoriginal loan serv...</td>\n",
       "      <td>[-0.022687040269374847, 0.012659582309424877, ...</td>\n",
       "    </tr>\n",
       "    <tr>\n",
       "      <th>1</th>\n",
       "      <td>5832311</td>\n",
       "      <td>Applying for a mortgage or refinancing an exis...</td>\n",
       "      <td>XXXX and XXXX Mortgage payments were marked as...</td>\n",
       "      <td>mortgage payment mark late account covid forbe...</td>\n",
       "      <td>[-0.02141152136027813, -0.0036303510423749685,...</td>\n",
       "    </tr>\n",
       "    <tr>\n",
       "      <th>2</th>\n",
       "      <td>2787647</td>\n",
       "      <td>Trouble during payment process</td>\n",
       "      <td>XXXX XXXX XXXX On XX/XX/XXXX, I called 21st mo...</td>\n",
       "      <td>call st mortgage home finance father name titl...</td>\n",
       "      <td>[-0.03758683055639267, -0.006581039633601904, ...</td>\n",
       "    </tr>\n",
       "    <tr>\n",
       "      <th>3</th>\n",
       "      <td>6589323</td>\n",
       "      <td>Trouble during payment process</td>\n",
       "      <td>Loancare through XXXX XXXX XXXX' is negligentl...</td>\n",
       "      <td>loancare negligently purposely delay release c...</td>\n",
       "      <td>[-0.01969774439930916, -0.005841182079166174, ...</td>\n",
       "    </tr>\n",
       "    <tr>\n",
       "      <th>4</th>\n",
       "      <td>6633594</td>\n",
       "      <td>Struggling to pay mortgage</td>\n",
       "      <td>In XXXX of XXXX, I received a Loan Modificatio...</td>\n",
       "      <td>receive loan modification partial claim bank n...</td>\n",
       "      <td>[-0.03471546992659569, 0.0037510935217142105, ...</td>\n",
       "    </tr>\n",
       "  </tbody>\n",
       "</table>\n",
       "</div>"
      ],
      "text/plain": [
       "   Complaint ID                                              Issue  \\\n",
       "0       6697855                     Trouble during payment process   \n",
       "1       5832311  Applying for a mortgage or refinancing an exis...   \n",
       "2       2787647                     Trouble during payment process   \n",
       "3       6589323                     Trouble during payment process   \n",
       "4       6633594                         Struggling to pay mortgage   \n",
       "\n",
       "                        Consumer complaint narrative  \\\n",
       "0  I closed on my house XX/XX/XXXX, XXXX  payment...   \n",
       "1  XXXX and XXXX Mortgage payments were marked as...   \n",
       "2  XXXX XXXX XXXX On XX/XX/XXXX, I called 21st mo...   \n",
       "3  Loancare through XXXX XXXX XXXX' is negligentl...   \n",
       "4  In XXXX of XXXX, I received a Loan Modificatio...   \n",
       "\n",
       "                            Clean consumer complaint  \\\n",
       "0  close house payment due xxxxoriginal loan serv...   \n",
       "1  mortgage payment mark late account covid forbe...   \n",
       "2  call st mortgage home finance father name titl...   \n",
       "3  loancare negligently purposely delay release c...   \n",
       "4  receive loan modification partial claim bank n...   \n",
       "\n",
       "                                           Embedding  \n",
       "0  [-0.022687040269374847, 0.012659582309424877, ...  \n",
       "1  [-0.02141152136027813, -0.0036303510423749685,...  \n",
       "2  [-0.03758683055639267, -0.006581039633601904, ...  \n",
       "3  [-0.01969774439930916, -0.005841182079166174, ...  \n",
       "4  [-0.03471546992659569, 0.0037510935217142105, ...  "
      ]
     },
     "execution_count": 20,
     "metadata": {},
     "output_type": "execute_result"
    }
   ],
   "source": [
    "data = pd.read_csv('StaterDataEmbeddings.csv')\n",
    "data.head()"
   ]
  },
  {
   "attachments": {},
   "cell_type": "markdown",
   "metadata": {
    "collapsed": false
   },
   "source": [
    "Used random forest to calculate the accuracy of the embeddings using OpenAI"
   ]
  },
  {
   "cell_type": "code",
   "execution_count": 21,
   "metadata": {
    "ExecuteTime": {
     "end_time": "2023-06-05T10:05:08.671674600Z",
     "start_time": "2023-06-05T10:05:08.452625600Z"
    }
   },
   "outputs": [
    {
     "name": "stdout",
     "output_type": "stream",
     "text": [
      "Accuracy: 0.5573770491803278\n"
     ]
    }
   ],
   "source": [
    "# Prepare the feature matrix X and target vector y\n",
    "X = data['Embedding'].apply(lambda x: json.loads(x)).tolist()\n",
    "y = data['Issue']\n",
    "\n",
    "# Reshape the embeddings into a 2D array\n",
    "X = np.array(X)\n",
    "\n",
    "# Split the data into training and testing sets\n",
    "X_train, X_test, y_train, y_test = train_test_split(X, y, test_size=0.3, random_state=2)\n",
    "\n",
    "# Create an instance of the random forest classifier\n",
    "rf_classifier = RandomForestClassifier(n_estimators=200, random_state=2)\n",
    "\n",
    "# Train the random forest classifier\n",
    "rf_classifier.fit(X_train, y_train)\n",
    "\n",
    "# Make predictions on the test data\n",
    "y_pred = rf_classifier.predict(X_test)\n",
    "\n",
    "# Evaluate the performance of the model\n",
    "accuracy = accuracy_score(y_test, y_pred)\n",
    "print('Accuracy:', accuracy)"
   ]
  },
  {
   "attachments": {},
   "cell_type": "markdown",
   "metadata": {},
   "source": [
    "Accuracy for this model is 0.56. It is an ok model. Hence the score is less than the traditional method of using TF-IDF. 200 complaints are used for this model. It is recommended to try this with a larger dataset, as we occurred errors due to token and api request limit."
   ]
  }
 ],
 "metadata": {
  "kernelspec": {
   "display_name": "Python 3 (ipykernel)",
   "language": "python",
   "name": "python3"
  },
  "language_info": {
   "codemirror_mode": {
    "name": "ipython",
    "version": 3
   },
   "file_extension": ".py",
   "mimetype": "text/x-python",
   "name": "python",
   "nbconvert_exporter": "python",
   "pygments_lexer": "ipython3",
   "version": "3.9.13"
  },
  "vscode": {
   "interpreter": {
    "hash": "365536dcbde60510dc9073d6b991cd35db2d9bac356a11f5b64279a5e6708b97"
   }
  }
 },
 "nbformat": 4,
 "nbformat_minor": 2
}
