{
 "cells": [
  {
   "cell_type": "markdown",
   "source": [
    "Jupyter notebook één team.\n",
    "In the code below, all needed imports for the following code are made up here."
   ],
   "metadata": {
    "collapsed": false
   }
  },
  {
   "cell_type": "code",
   "execution_count": 41,
   "metadata": {
    "collapsed": true
   },
   "outputs": [],
   "source": [
    "import pandas as pd\n",
    "import seaborn as sns\n",
    "import matplotlib.pyplot as plt\n",
    "import sqlite3\n",
    "import numpy as np\n",
    "from sklearn.model_selection import train_test_split\n",
    "from statsmodels.formula.api import ols\n",
    "\n",
    "#Imports used for python tf-idf\n",
    "import glob\n",
    "from sklearn.feature_extraction.text import TfidfVectorizer\n",
    "from nltk.corpus import wordnet\n",
    "from sklearn.feature_extraction.text import CountVectorizer\n",
    "from nltk.corpus import stopwords\n",
    "\n",
    "from sklearn.metrics import classification_report\n",
    "import sqlalchemy\n"
   ]
  },
  {
   "cell_type": "code",
   "execution_count": 87,
   "outputs": [
    {
     "name": "stderr",
     "output_type": "stream",
     "text": [
      "[nltk_data] Downloading package words to\n",
      "[nltk_data]     C:\\Users\\SKIKK\\AppData\\Roaming\\nltk_data...\n",
      "[nltk_data]   Unzipping corpora\\words.zip.\n"
     ]
    },
    {
     "data": {
      "text/plain": "True"
     },
     "execution_count": 87,
     "metadata": {},
     "output_type": "execute_result"
    }
   ],
   "source": [
    "import nltk\n",
    "nltk.download('words')"
   ],
   "metadata": {
    "collapsed": false
   }
  },
  {
   "cell_type": "markdown",
   "source": [
    "In the code below, the option to display graphs inline will be set to true."
   ],
   "metadata": {
    "collapsed": false
   }
  },
  {
   "cell_type": "code",
   "execution_count": 2,
   "outputs": [],
   "source": [
    "%config IPCompleter.greedy = True\n",
    "%matplotlib inline"
   ],
   "metadata": {
    "collapsed": false
   }
  },
  {
   "cell_type": "markdown",
   "source": [
    "Reading the data and assign it to the correct variable."
   ],
   "metadata": {
    "collapsed": false
   }
  },
  {
   "cell_type": "code",
   "execution_count": 54,
   "outputs": [
    {
     "name": "stderr",
     "output_type": "stream",
     "text": [
      "C:\\Users\\SKIKK\\AppData\\Local\\Temp\\ipykernel_24700\\2234006997.py:21: UserWarning: Could not infer format, so each element will be parsed individually, falling back to `dateutil`. To ensure parsing is consistent and as-expected, please specify a format.\n",
      "  DS1_data = pd.read_csv(\"../Data/complaints-2023-04-25_05_07.csv\", low_memory = False, dtype = dtypes, parse_dates = parse_dates,nrows=1000)\n",
      "C:\\Users\\SKIKK\\AppData\\Local\\Temp\\ipykernel_24700\\2234006997.py:21: UserWarning: Could not infer format, so each element will be parsed individually, falling back to `dateutil`. To ensure parsing is consistent and as-expected, please specify a format.\n",
      "  DS1_data = pd.read_csv(\"../Data/complaints-2023-04-25_05_07.csv\", low_memory = False, dtype = dtypes, parse_dates = parse_dates,nrows=1000)\n"
     ]
    },
    {
     "data": {
      "text/plain": "Issue\nTrouble during payment process                                                      221\nStruggling to pay mortgage                                                          124\nApplying for a mortgage or refinancing an existing mortgage                          72\nLoan servicing, payments, escrow account                                             61\nClosing on a mortgage                                                                42\nLoan modification,collection,foreclosure                                             41\nApplication, originator, mortgage broker                                             16\nSettlement process and costs                                                         15\nCredit decision / Underwriting                                                        4\nProblem with a credit reporting company's investigation into an existing problem      3\nIncorrect information on your report                                                  2\nImproper use of your report                                                           1\nOther                                                                                 0\nName: count, dtype: int64"
     },
     "execution_count": 54,
     "metadata": {},
     "output_type": "execute_result"
    }
   ],
   "source": [
    "parse_dates = ['Product','Date received', 'Date sent to company']\n",
    "dtypes = {'Date received': str,\n",
    "          'Product': \"category\",\n",
    "          'Sub-product': \"category\",\n",
    "          'Issue': \"category\",\n",
    "          'Sub-issue':\"category\",\n",
    "          'Consumer complaint narrative':str,\n",
    "          'Company public response':str,\n",
    "          'Company':\"category\",\n",
    "          'State':\"category\",\n",
    "          'ZIP code':str,\n",
    "          'Tags':\"category\",\n",
    "          'Consumer consent provided?':str,\n",
    "          'Submitted via':\"category\",\n",
    "          'Date sent to company':str,\n",
    "          'Company response to consumer':str,\n",
    "          'Timely response?':str,\n",
    "          'Consumer disputed?':str,\n",
    "          'Complaint ID':int}\n",
    "\n",
    "# Read the csv file\n",
    "DS1_data = pd.read_csv(\"../Data/complaints-2023-04-25_05_07.csv\", low_memory = False, dtype = dtypes, parse_dates = parse_dates,nrows=1000)\n",
    "\n",
    "# Parse yes and no to an boolean\n",
    "DS1_data[['Timely response?','Consumer disputed?']] = DS1_data[['Consumer disputed?','Timely response?']].replace({'Yes': True, 'No':False}).astype(bool)\n",
    "\n",
    "# Parse Consent provided an no to an boolean\n",
    "DS1_data['Consumer consent provided?'] = DS1_data['Consumer consent provided?'].replace({'Consent provided': True, '':False}).astype(bool)\n",
    "\n",
    "# Drops the missing rows with no  complaint.\n",
    "DS1_data = DS1_data[pd.notnull(DS1_data['Consumer complaint narrative'])]\n",
    "\n",
    "# Drops not needed columns\n",
    "DS1_data.drop(columns=['Sub-issue'])\n",
    "\n",
    "# Count the amount of issue category's\n",
    "DS1_data[\"Issue\"].value_counts()"
   ],
   "metadata": {
    "collapsed": false
   }
  },
  {
   "cell_type": "code",
   "execution_count": 57,
   "outputs": [
    {
     "data": {
      "text/plain": "602"
     },
     "execution_count": 57,
     "metadata": {},
     "output_type": "execute_result"
    }
   ],
   "source": [
    "#If db file doesn't exist, create it.\n",
    "#db = sqlalchemy.create_engine('sqlite:///StaterData.db')\n",
    "#DS1_data.to_sql(\"mortgage complaints\",db,if_exists=\"replace\")"
   ],
   "metadata": {
    "collapsed": false
   }
  },
  {
   "cell_type": "markdown",
   "source": [
    "In the next cells we're going to add tf-idf conversion to the string data. The recommended way to run TfidfVectorizer is with smoothing (smooth_idf = True) and normalization (norm='l2') turned on. These parameters will better account for differences in text length, and overall produce more meaningful tf–idf scores. Because this is recommended by python, we turn these settings on."
   ],
   "metadata": {
    "collapsed": false
   }
  },
  {
   "cell_type": "code",
   "execution_count": 80,
   "outputs": [],
   "source": [
    "def tfidf_custom_scoring(input_text):\n",
    "    # create tf-idf vectorizer and fit to input text\n",
    "    vectorizer = TfidfVectorizer(stop_words='english',\n",
    "                             token_pattern=r'\\b[a-zA-Z]+\\b',\n",
    "                             analyzer='word',\n",
    "                             use_idf=True,\n",
    "                             smooth_idf=True,\n",
    "                             norm=None, tokenizer=None,\n",
    "                             preprocessor=None)\n",
    "\n",
    "    # Fit the data to the vectorizer\n",
    "    vectorizer.fit(DS1_data['Consumer complaint narrative'])\n",
    "\n",
    "    # Adds the input from the user to the fit using an transform\n",
    "    transformed_data = vectorizer.transform([input_text])\n",
    "\n",
    "    # Get all the feature name(words instead of numbers) corresponding to the array\n",
    "    feature_names = vectorizer.get_feature_names_out()\n",
    "\n",
    "    # calculate initial scores and store them in a dictionary\n",
    "    scores_dict = {name: score for name, score in zip(feature_names, transformed_data.toarray()[0])}\n",
    "\n",
    "    # adjust scores based on term length and update the dictionary\n",
    "    for name in feature_names:\n",
    "        scores_dict[name] *= (1 + 0.01*len(name))\n",
    "\n",
    "    # create a new array of adjusted scores in the same order as the feature names\n",
    "    adjusted_scores = np.zeros(len(feature_names))\n",
    "    for i, term in enumerate(feature_names):\n",
    "        adjusted_scores[i] = scores_dict[term]\n",
    "\n",
    "    # return a tuple of the feature names and adjusted scores\n",
    "    return feature_names, adjusted_scores"
   ],
   "metadata": {
    "collapsed": false
   }
  },
  {
   "cell_type": "code",
   "execution_count": 58,
   "outputs": [],
   "source": [
    "# Replace alle XX occurences with emty strings, to avoid it from being the most important word.\n",
    "DS1_data['Consumer complaint narrative'] = DS1_data['Consumer complaint narrative'].str.replace('XX', '') # Remove \"XX\"\n",
    "\n",
    "# Drop rows where no explanation is given to categorize.\n",
    "DS1_data.dropna(subset=['Consumer complaint narrative'], inplace=True) # Drop rows with missing data\n",
    "\n",
    "#Create an TF-IDF vectorizer wich filters stopwords and splits text up into words.\n",
    "tfidf_vectorizer = TfidfVectorizer(stop_words='english',\n",
    "                             token_pattern=r'\\b[a-zA-Z]+\\b',\n",
    "                             analyzer='word',\n",
    "                             use_idf=True,\n",
    "                             smooth_idf=True,\n",
    "                             norm=None, tokenizer=None,\n",
    "                             preprocessor=None)\n",
    "\n",
    "# Fit and transform the vectorizer to get an score per word in an array returned\n",
    "Vectorized_Data = tfidf_vectorizer.fit_transform(DS1_data['Consumer complaint narrative'])\n",
    "\n",
    "# Add the scores array back into the dataframe.\n",
    "DS1_data['TF-IDF scores'] = list(Vectorized_Data.toarray())\n"
   ],
   "metadata": {
    "collapsed": false
   }
  },
  {
   "cell_type": "markdown",
   "source": [
    "De scores die worden gegenereerd door de TF-IDF vectorizer zijn numerieke waarden die aangeven hoe belangrijk elk woord is voor elke klacht in vergelijking met de andere klachten in de dataset.\n",
    "\n",
    "TF (Term Frequency) geeft de frequentie van een woord in een specifieke klacht weer. Een hogere frequentie betekent dat het woord belangrijker is voor die specifieke klacht.\n",
    "IDF (Inverse Document Frequency) berekent de mate waarin een woord voorkomt in het hele corpus van klachten. Een hogere IDF-waarde geeft aan dat het woord minder belangrijk is voor alle klachten in de dataset.\n",
    "De TF-IDF score is het product van de TF en IDF-waarden. Woorden die vaak voorkomen in een bepaalde klacht, maar zelden in andere klachten, hebben een hogere TF-IDF score en worden als belangrijker beschouwd voor die specifieke klacht. Woorden die vaak voorkomen in alle klachten, hebben een lagere TF-IDF score en worden als minder belangrijk beschouwd.\n",
    "\n"
   ],
   "metadata": {
    "collapsed": false
   }
  },
  {
   "cell_type": "code",
   "execution_count": 82,
   "outputs": [
    {
     "data": {
      "text/plain": "top_word\npayment        17\ncooper         11\ninsurance      11\nwells          11\nforbearance    10\n               ..\nordeal          1\nfiled           1\nplan            1\nignored         1\nmonth           1\nName: count, Length: 395, dtype: int64"
     },
     "execution_count": 82,
     "metadata": {},
     "output_type": "execute_result"
    }
   ],
   "source": [
    "# Maak een lijst van alle woorden in de corpus\n",
    "feature_names = tfidf_vectorizer.get_feature_names_out()\n",
    "\n",
    "# Loop door alle rijen en sla het woord met de hoogste score op in een nieuw veld \"top_word\"\n",
    "top_words = []\n",
    "for i in range(Vectorized_Data.shape[0]):\n",
    "    # Krijg de array met scores van de huidige rij\n",
    "    row_scores = Vectorized_Data[i].toarray()[0]\n",
    "\n",
    "    scores_dict = {name: score for name, score in zip(feature_names,row_scores)}\n",
    "\n",
    "    # adjust scores based on term length and update the dictionary\n",
    "    for name in feature_names:\n",
    "        scores_dict[name] *= (1 + 0.01*len(name))\n",
    "\n",
    "    # create a new array of adjusted scores in the same order as the feature names\n",
    "    adjusted_scores = np.zeros(len(feature_names))\n",
    "    for i, term in enumerate(feature_names):\n",
    "        adjusted_scores[i] = scores_dict[term]\n",
    "\n",
    "    # Krijg de index van het hoogste cijfer in de array met scores\n",
    "    max_index = adjusted_scores.argmax()\n",
    "\n",
    "    #Check if there are any vowels in the topword, if not select new one\n",
    "    vowels = {\"a\", \"e\", \"i\", \"o\", \"u\", \"A\", \"E\", \"I\", \"O\", \"U\"}\n",
    "    if any(char in vowels for char in feature_names[max_index]):\n",
    "        pass\n",
    "    else:\n",
    "        adjusted_scores[max_index] = 0\n",
    "        max_index = adjusted_scores.argmax()\n",
    "\n",
    "    # If the word isn't found in the wordbank, select second word\n",
    "    if(len(wordnet.synsets(feature_names[max_index])) == 0):\n",
    "        adjusted_scores[max_index] = 0\n",
    "        max_index = adjusted_scores.argmax()\n",
    "\n",
    "    # Krijg het bijbehorende woord\n",
    "    top_word = feature_names[max_index]\n",
    "    # Voeg het bijbehorende woord toe aan de lijst van top_words\n",
    "    top_words.append(top_word)\n",
    "\n",
    "# Voeg de lijst van top_words toe aan het DataFrame als een nieuwe kolom \"top_word\"\n",
    "DS1_data['top_word'] = top_words\n",
    "DS1_data[\"top_word\"].value_counts()"
   ],
   "metadata": {
    "collapsed": false
   }
  },
  {
   "cell_type": "code",
   "execution_count": 95,
   "outputs": [
    {
     "name": "stdout",
     "output_type": "stream",
     "text": [
      "Correct voorspeld: 76%\n",
      "Fout voorspeld: 24%\n"
     ]
    }
   ],
   "source": [
    "import nltk\n",
    "english_vocab = set(w.lower() for w in nltk.corpus.words.words())\n",
    "\n",
    "# define custom scoring function\n",
    "# replace NaN values in \"TF-IDF scores\" column with empty strings\n",
    "DS1_data[\"TF-IDF scores\"] = DS1_data[\"TF-IDF scores\"].fillna(\"\")\n",
    "\n",
    "# convert \"TF-IDF scores\" column to string\n",
    "DS1_data[\"TF-IDF scores\"] = DS1_data[\"TF-IDF scores\"].astype(str)\n",
    "\n",
    "#user_input = input(\"What question do you want to categorize? \")\n",
    "def Classifiy_string(user_input):\n",
    "    # Gets return all the words with a score in form of array that were send\n",
    "    data = tfidf_custom_scoring(user_input)\n",
    "\n",
    "    # Select the highest scoring word.\n",
    "    index_max = np.argmax(data[1])\n",
    "\n",
    "    # filter the dataframe by rows where the highest_word or its synonyms appear in the TF-IDF scores column\n",
    "    Relevant_word = str(data[0][index_max])\n",
    "\n",
    "    # Checks all past result classifications\n",
    "    def Checkifcorrospondingword(Relevant_word):\n",
    "        return DS1_data[DS1_data[\"top_word\"].str.contains(Relevant_word)]\n",
    "\n",
    "    filtered_df= Checkifcorrospondingword(str(data[0][index_max]))\n",
    "\n",
    "    # Checks if the word is in the english vocabulary, if not, pick the next word\n",
    "    #if(Relevant_word not in english_vocab):\n",
    "    #    data[1][index_max] = 0\n",
    "    #    print(Relevant_word + \" changed to \" + str(data[0][np.argmax(data[1])]))\n",
    "    #    Checkifcorrospondingword(str(data[0][np.argmax(data[1])]))\n",
    "\n",
    "    #Search for corresponding synonyms and checks if this word is found in previous responses.\n",
    "    for syn2 in wordnet.synsets(Relevant_word):\n",
    "        for synoniem in syn2.lemmas():\n",
    "            syn = synoniem.name()\n",
    "            if(filtered_df is not None):\n",
    "                filtered_df = pd.concat([filtered_df, DS1_data[DS1_data[\"top_word\"].str.contains(syn)]])\n",
    "\n",
    "    # count the occurrences of each issue and get the most common one\n",
    "    if(filtered_df[\"Issue\"].value_counts()[0] == 0):\n",
    "        data[1][index_max] = 0\n",
    "        valuecounts =  Checkifcorrospondingword(str(data[0][np.argmax(data[1])]))[\"Issue\"].value_counts()\n",
    "        if(valuecounts[0] == 0):\n",
    "            data[1][index_max] = 0\n",
    "            return Checkifcorrospondingword(str(data[0][np.argmax(data[1])]))[\"Issue\"].value_counts().index[0]\n",
    "        else:\n",
    "            return valuecounts.index[0]\n",
    "    else:\n",
    "        return filtered_df[\"Issue\"].value_counts().index[0]\n"
   ],
   "metadata": {
    "collapsed": false
   }
  },
  {
   "cell_type": "markdown",
   "source": [
    "To test the algorithm we made above, we test the classification on the first 100 rows and give back an percentage of correct classifications"
   ],
   "metadata": {
    "collapsed": false
   }
  },
  {
   "cell_type": "code",
   "execution_count": null,
   "outputs": [],
   "source": [
    "# Varaible storing if categorising was correct\n",
    "CorrectPrognosed = 0\n",
    "WrongPrognosed = 0\n",
    "\n",
    "for index, row in DS1_data.head(100).iterrows():\n",
    "    QuestionCateogryPrediction = Classifiy_string(row[\"Consumer complaint narrative\"])\n",
    "    if(QuestionCateogryPrediction == DS1_data.at[index,\"Issue\"]):\n",
    "        CorrectPrognosed += 1\n",
    "    else:\n",
    "        WrongPrognosed += 1\n",
    "\n",
    "print(\"Correct voorspeld: \" + str(CorrectPrognosed) + \"%\")\n",
    "print(\"Fout voorspeld: \" + str(WrongPrognosed) + \"%\")"
   ],
   "metadata": {
    "collapsed": false
   }
  },
  {
   "cell_type": "code",
   "execution_count": 97,
   "outputs": [
    {
     "name": "stdout",
     "output_type": "stream",
     "text": [
      "Your question will be in the following category: Trouble during payment process\n"
     ]
    }
   ],
   "source": [
    "print(\"Your question will be in the following category: \"+Classifiy_string(input(\"What question do you want to categorize? \")))"
   ],
   "metadata": {
    "collapsed": false
   }
  },
  {
   "cell_type": "markdown",
   "source": [],
   "metadata": {
    "collapsed": false
   }
  },
  {
   "cell_type": "code",
   "execution_count": 8,
   "outputs": [
    {
     "data": {
      "text/plain": "<Figure size 640x480 with 2 Axes>",
      "image/png": "[encoded data removed]"
     },
     "metadata": {},
     "output_type": "display_data"
    }
   ],
   "source": [
    "sns.heatmap(data=DS1_data[['Complaint ID','Consumer disputed?','Timely response?','Consumer consent provided?']].corr(),annot=True)\n",
    "plt.show()"
   ],
   "metadata": {
    "collapsed": false
   }
  },
  {
   "cell_type": "code",
   "execution_count": 9,
   "outputs": [
    {
     "ename": "TypeError",
     "evalue": "no numeric data to plot",
     "output_type": "error",
     "traceback": [
      "\u001B[1;31m---------------------------------------------------------------------------\u001B[0m",
      "\u001B[1;31mTypeError\u001B[0m                                 Traceback (most recent call last)",
      "Cell \u001B[1;32mIn[9], line 5\u001B[0m\n\u001B[0;32m      2\u001B[0m pivot_table \u001B[38;5;241m=\u001B[39m pd\u001B[38;5;241m.\u001B[39mpivot_table(DS1_data[[\u001B[38;5;124m\"\u001B[39m\u001B[38;5;124mIssue\u001B[39m\u001B[38;5;124m\"\u001B[39m,\u001B[38;5;124m\"\u001B[39m\u001B[38;5;124mCompany\u001B[39m\u001B[38;5;124m\"\u001B[39m]],values\u001B[38;5;241m=\u001B[39m\u001B[38;5;124m\"\u001B[39m\u001B[38;5;124mIssue\u001B[39m\u001B[38;5;124m\"\u001B[39m, index\u001B[38;5;241m=\u001B[39m[\u001B[38;5;124m'\u001B[39m\u001B[38;5;124mIssue\u001B[39m\u001B[38;5;124m'\u001B[39m], columns\u001B[38;5;241m=\u001B[39m[\u001B[38;5;124m'\u001B[39m\u001B[38;5;124mCompany\u001B[39m\u001B[38;5;124m'\u001B[39m], aggfunc\u001B[38;5;241m=\u001B[39m\u001B[38;5;124m'\u001B[39m\u001B[38;5;124msum\u001B[39m\u001B[38;5;124m'\u001B[39m, fill_value\u001B[38;5;241m=\u001B[39m\u001B[38;5;241m0\u001B[39m)\n\u001B[0;32m      4\u001B[0m \u001B[38;5;66;03m# plot the pivot table as a stacked bar chart\u001B[39;00m\n\u001B[1;32m----> 5\u001B[0m \u001B[43mpivot_table\u001B[49m\u001B[38;5;241;43m.\u001B[39;49m\u001B[43mplot\u001B[49m\u001B[43m(\u001B[49m\u001B[43mkind\u001B[49m\u001B[38;5;241;43m=\u001B[39;49m\u001B[38;5;124;43m'\u001B[39;49m\u001B[38;5;124;43mbar\u001B[39;49m\u001B[38;5;124;43m'\u001B[39;49m\u001B[43m,\u001B[49m\u001B[43m \u001B[49m\u001B[43mstacked\u001B[49m\u001B[38;5;241;43m=\u001B[39;49m\u001B[38;5;28;43;01mTrue\u001B[39;49;00m\u001B[43m)\u001B[49m\n\u001B[0;32m      7\u001B[0m \u001B[38;5;66;03m# set the title and labels for the chart\u001B[39;00m\n\u001B[0;32m      8\u001B[0m plt\u001B[38;5;241m.\u001B[39mtitle(\u001B[38;5;124m'\u001B[39m\u001B[38;5;124mIssues by Company\u001B[39m\u001B[38;5;124m'\u001B[39m)\n",
      "File \u001B[1;32m~\\.virtualenvs\\pythonProject\\lib\\site-packages\\pandas\\plotting\\_core.py:975\u001B[0m, in \u001B[0;36mPlotAccessor.__call__\u001B[1;34m(self, *args, **kwargs)\u001B[0m\n\u001B[0;32m    972\u001B[0m             label_name \u001B[38;5;241m=\u001B[39m label_kw \u001B[38;5;129;01mor\u001B[39;00m data\u001B[38;5;241m.\u001B[39mcolumns\n\u001B[0;32m    973\u001B[0m             data\u001B[38;5;241m.\u001B[39mcolumns \u001B[38;5;241m=\u001B[39m label_name\n\u001B[1;32m--> 975\u001B[0m \u001B[38;5;28;01mreturn\u001B[39;00m plot_backend\u001B[38;5;241m.\u001B[39mplot(data, kind\u001B[38;5;241m=\u001B[39mkind, \u001B[38;5;241m*\u001B[39m\u001B[38;5;241m*\u001B[39mkwargs)\n",
      "File \u001B[1;32m~\\.virtualenvs\\pythonProject\\lib\\site-packages\\pandas\\plotting\\_matplotlib\\__init__.py:71\u001B[0m, in \u001B[0;36mplot\u001B[1;34m(data, kind, **kwargs)\u001B[0m\n\u001B[0;32m     69\u001B[0m         kwargs[\u001B[38;5;124m\"\u001B[39m\u001B[38;5;124max\u001B[39m\u001B[38;5;124m\"\u001B[39m] \u001B[38;5;241m=\u001B[39m \u001B[38;5;28mgetattr\u001B[39m(ax, \u001B[38;5;124m\"\u001B[39m\u001B[38;5;124mleft_ax\u001B[39m\u001B[38;5;124m\"\u001B[39m, ax)\n\u001B[0;32m     70\u001B[0m plot_obj \u001B[38;5;241m=\u001B[39m PLOT_CLASSES[kind](data, \u001B[38;5;241m*\u001B[39m\u001B[38;5;241m*\u001B[39mkwargs)\n\u001B[1;32m---> 71\u001B[0m \u001B[43mplot_obj\u001B[49m\u001B[38;5;241;43m.\u001B[39;49m\u001B[43mgenerate\u001B[49m\u001B[43m(\u001B[49m\u001B[43m)\u001B[49m\n\u001B[0;32m     72\u001B[0m plot_obj\u001B[38;5;241m.\u001B[39mdraw()\n\u001B[0;32m     73\u001B[0m \u001B[38;5;28;01mreturn\u001B[39;00m plot_obj\u001B[38;5;241m.\u001B[39mresult\n",
      "File \u001B[1;32m~\\.virtualenvs\\pythonProject\\lib\\site-packages\\pandas\\plotting\\_matplotlib\\core.py:446\u001B[0m, in \u001B[0;36mMPLPlot.generate\u001B[1;34m(self)\u001B[0m\n\u001B[0;32m    444\u001B[0m \u001B[38;5;28;01mdef\u001B[39;00m \u001B[38;5;21mgenerate\u001B[39m(\u001B[38;5;28mself\u001B[39m) \u001B[38;5;241m-\u001B[39m\u001B[38;5;241m>\u001B[39m \u001B[38;5;28;01mNone\u001B[39;00m:\n\u001B[0;32m    445\u001B[0m     \u001B[38;5;28mself\u001B[39m\u001B[38;5;241m.\u001B[39m_args_adjust()\n\u001B[1;32m--> 446\u001B[0m     \u001B[38;5;28;43mself\u001B[39;49m\u001B[38;5;241;43m.\u001B[39;49m\u001B[43m_compute_plot_data\u001B[49m\u001B[43m(\u001B[49m\u001B[43m)\u001B[49m\n\u001B[0;32m    447\u001B[0m     \u001B[38;5;28mself\u001B[39m\u001B[38;5;241m.\u001B[39m_setup_subplots()\n\u001B[0;32m    448\u001B[0m     \u001B[38;5;28mself\u001B[39m\u001B[38;5;241m.\u001B[39m_make_plot()\n",
      "File \u001B[1;32m~\\.virtualenvs\\pythonProject\\lib\\site-packages\\pandas\\plotting\\_matplotlib\\core.py:632\u001B[0m, in \u001B[0;36mMPLPlot._compute_plot_data\u001B[1;34m(self)\u001B[0m\n\u001B[0;32m    630\u001B[0m \u001B[38;5;66;03m# no non-numeric frames or series allowed\u001B[39;00m\n\u001B[0;32m    631\u001B[0m \u001B[38;5;28;01mif\u001B[39;00m is_empty:\n\u001B[1;32m--> 632\u001B[0m     \u001B[38;5;28;01mraise\u001B[39;00m \u001B[38;5;167;01mTypeError\u001B[39;00m(\u001B[38;5;124m\"\u001B[39m\u001B[38;5;124mno numeric data to plot\u001B[39m\u001B[38;5;124m\"\u001B[39m)\n\u001B[0;32m    634\u001B[0m \u001B[38;5;28mself\u001B[39m\u001B[38;5;241m.\u001B[39mdata \u001B[38;5;241m=\u001B[39m numeric_data\u001B[38;5;241m.\u001B[39mapply(\u001B[38;5;28mself\u001B[39m\u001B[38;5;241m.\u001B[39m_convert_to_ndarray)\n",
      "\u001B[1;31mTypeError\u001B[0m: no numeric data to plot"
     ]
    }
   ],
   "source": [
    "# create a pivot table to count the number of occurrences of each combination of Issue and Company\n",
    "pivot_table = pd.pivot_table(DS1_data[[\"Issue\",\"Company\"]],values=\"Issue\", index=['Issue'], columns=['Company'], aggfunc='sum', fill_value=0)\n",
    "\n",
    "# plot the pivot table as a stacked bar chart\n",
    "pivot_table.plot(kind='bar', stacked=True)\n",
    "\n",
    "# set the title and labels for the chart\n",
    "plt.title('Issues by Company')\n",
    "plt.xlabel('Issue')\n",
    "plt.ylabel('Count')\n",
    "\n",
    "# show the chart\n",
    "plt.show()"
   ],
   "metadata": {
    "collapsed": false
   }
  },
  {
   "cell_type": "code",
   "execution_count": null,
   "outputs": [],
   "source": [],
   "metadata": {
    "collapsed": false
   }
  }
 ],
 "metadata": {
  "kernelspec": {
   "display_name": "Python 3",
   "language": "python",
   "name": "python3"
  },
  "language_info": {
   "codemirror_mode": {
    "name": "ipython",
    "version": 2
   },
   "file_extension": ".py",
   "mimetype": "text/x-python",
   "name": "python",
   "nbconvert_exporter": "python",
   "pygments_lexer": "ipython2",
   "version": "2.7.6"
  }
 },
 "nbformat": 4,
 "nbformat_minor": 0
}
